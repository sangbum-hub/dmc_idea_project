{
 "cells": [
  {
   "cell_type": "code",
   "execution_count": 14,
   "metadata": {},
   "outputs": [],
   "source": [
    "# step1.프로젝트에 필요한 패키지 불러오기\n",
    "from bs4 import BeautifulSoup\n",
    "from selenium import webdriver\n",
    "from selenium.webdriver.common.by import By\n",
    "from selenium.webdriver.common.keys import Keys\n",
    "import time\n",
    "import pandas as pd\n",
    "\n",
    "# step2.로그인 정보 및 검색할 회사 미리 정의, 해당 회사의 리뷰 끝 페이지도 정의\n",
    "usr = \"rhawhtjsdud@naver.com\"\n",
    "pwd = \"didtmdgh9!!z\"\n",
    "query = \"엔씨소프트\"\n",
    "page = 5             # 검색할 회사의 마지막 페이지 (정수)\n"
   ]
  },
  {
   "cell_type": "code",
   "execution_count": 15,
   "metadata": {},
   "outputs": [
    {
     "name": "stderr",
     "output_type": "stream",
     "text": [
      "C:\\Users\\DMC CONET\\AppData\\Local\\Temp\\ipykernel_19276\\2054305479.py:4: DeprecationWarning: executable_path has been deprecated, please pass in a Service object\n",
      "  driver = webdriver.Chrome(\"./chromedriver.exe\")\n"
     ]
    }
   ],
   "source": [
    "# step3.크롬드라이버 실행 및 잡플래닛 로그인\n",
    "\n",
    "# driver = webdriver.Chrome(\"C:/Users/username/Desktop/chromedriver.exe\")\n",
    "driver = webdriver.Chrome(\"./chromedriver.exe\")\n",
    "\n",
    "driver.get(\"https://www.jobplanet.co.kr/users/sign_in?_nav=gb\")\n",
    "time.sleep(5)\n"
   ]
  },
  {
   "cell_type": "code",
   "execution_count": 16,
   "metadata": {},
   "outputs": [],
   "source": [
    "# 아이디 입력 \n",
    "login_id = driver.find_element(By.XPATH, '//*[@id=\"user_email\"]')\n",
    "login_id.send_keys(usr)\n",
    "\n",
    "# 패스워드 입력\n",
    "login_pwd = driver.find_element(By.XPATH, '//*[@id=\"user_password\"]')\n",
    "login_pwd.send_keys(pwd)\n",
    "\n",
    "login_id.send_keys(Keys.RETURN)\n",
    "time.sleep(5)\n"
   ]
  },
  {
   "cell_type": "code",
   "execution_count": 17,
   "metadata": {},
   "outputs": [],
   "source": [
    "# step4.원하는 회사의 리뷰 페이지까지 이동\n",
    "search_query = driver.find_element(By.XPATH, '//*[@id=\"search_bar_search_query\"]')\n",
    "search_query.send_keys(query)\n",
    "search_query.send_keys(Keys.RETURN)\n",
    "time.sleep(3)"
   ]
  },
  {
   "cell_type": "code",
   "execution_count": 18,
   "metadata": {},
   "outputs": [],
   "source": [
    "driver.find_element(By.XPATH, '//*[@id=\"mainContents\"]/div[1]/div/div[2]/div[1]/div[1]/a').click()\n",
    "time.sleep(15)\n",
    "driver.find_element(By.XPATH, '//*[@id=\"premiumReviewChart\"]/div/div[3]/div[2]/div/div[1]/button').click()\n",
    "time.sleep(3)"
   ]
  },
  {
   "cell_type": "code",
   "execution_count": 19,
   "metadata": {},
   "outputs": [],
   "source": [
    "# step6.크롤링한 정보를 담을 리스트명 정의\n",
    "list_company = []\n",
    "list_div = []\n",
    "list_cur = []\n",
    "list_date =[]\n",
    "list_stars = []\n",
    "list_summery = []\n",
    "list_merit = []\n",
    "list_disadvantages = []\n",
    "list_managers =[]\n"
   ]
  },
  {
   "cell_type": "code",
   "execution_count": 20,
   "metadata": {
    "scrolled": true
   },
   "outputs": [
    {
     "name": "stdout",
     "output_type": "stream",
     "text": [
      "5\n",
      "5\n",
      "5\n",
      "5\n",
      "5\n"
     ]
    }
   ],
   "source": [
    "# step7.원하는 회사의 직무/근속여부/일시/요약/평점/장점/단점/경영진에게 바라는 점 크롤링 (for문으로 반복)\n",
    "for i in range(page): \n",
    "\n",
    "    #직무, 근속여부, 일시\n",
    "    user_info = driver.find_elements(By.CSS_SELECTOR,\"span.txt1\")\n",
    "\n",
    "    count = int(len(user_info)/4)\n",
    "    print(count)\n",
    "    \n",
    "    for j in range(count):\n",
    "        list_company.append(query)\n",
    "\n",
    "    list_user_info = []\n",
    "\n",
    "    for j in user_info:\n",
    "        list_user_info.append(j.text)\n",
    "\n",
    "    for j in range(count):            #한 페이지에 정보 5set씩 나옴. 마지막 페이지는 5개 미만일 수 있으므로 count 변수를 반복횟수로 넣어줌.\n",
    "        a = list_user_info[4*j]\n",
    "        list_div.append(a)\n",
    "        \n",
    "        b = list_user_info[4*j+1]\n",
    "        list_cur.append(b)\n",
    "\n",
    "        c = list_user_info[4*j+3]\n",
    "        list_date.append(c)\n",
    "\n",
    "    #별점\n",
    "    stars = driver.find_elements(By.CSS_SELECTOR,\"div.star_score\")\n",
    "    for j in stars:\n",
    "        a = j.get_attribute('style')\n",
    "        if a[7:9] == '20':\n",
    "            list_stars.append(1)\n",
    "        elif a[7:9] == '40':\n",
    "            list_stars.append(2)\n",
    "        elif a[7:9] == '60':\n",
    "            list_stars.append(3)\n",
    "        elif a[7:9] == '80':\n",
    "            list_stars.append(4)\n",
    "        else:\n",
    "            list_stars.append(5)\n",
    "        \n",
    "    #요약 정보\n",
    "    summery = driver.find_elements(By.CSS_SELECTOR,\"h2.us_label\")\n",
    "\n",
    "    for j in summery:\n",
    "        list_summery.append(j.text)\n",
    "    \n",
    "    #장점, 단점, 경영진에게 바라는 점\n",
    "    list_review = []\n",
    "\n",
    "    review = driver.find_elements(By.CSS_SELECTOR,\"dd.df1\")\n",
    "\n",
    "    for j in review:\n",
    "        list_review.append(j.text)\n",
    "\n",
    "    for j in range(count):            #한 페이지에 정보 5set씩 나옴. 마지막 페이지는 5개 미만일 수 있으므로 count 변수를 반복횟수로 넣어줌.\n",
    "        a = list_review[3*j]\n",
    "        list_merit.append(a)\n",
    "        \n",
    "        b = list_review[3*j+1]\n",
    "        list_disadvantages.append(b)\n",
    "\n",
    "        c = list_review[3*j+2]\n",
    "        list_managers.append(c)\n",
    "\n",
    "    # 다음 페이지 클릭 후 for문 진행, 끝 페이지에서 다음 페이지 클릭 안되는 것 대비해서 예외처리 구문 추가\n",
    "    try:\n",
    "        driver.find_elements(By.CSS_SELECTOR,\"a.btn_pgnext\").click()\n",
    "        time.sleep(15)\n",
    "    except:\n",
    "        pass\n",
    "\n",
    "\n"
   ]
  },
  {
   "cell_type": "code",
   "execution_count": 21,
   "metadata": {},
   "outputs": [],
   "source": [
    "# step8.pandas 라이브러리로 표 만들기\n",
    "total_data = pd.DataFrame()\n",
    "total_data['회사'] = pd.Series(list_company)\n",
    "total_data['날짜'] = pd.Series(list_date)\n",
    "total_data['직무'] = pd.Series(list_div)\n",
    "total_data['재직여부'] = pd.Series(list_cur)\n",
    "total_data['별점'] = pd.Series(list_stars)\n",
    "total_data['요약'] = pd.Series(list_summery)\n",
    "total_data['장점'] = pd.Series(list_merit)\n",
    "total_data['단점'] = pd.Series(list_disadvantages)\n",
    "total_data['경영진에게 바라는 점'] = pd.Series(list_managers)\n",
    "\n",
    "# step9.엑셀 형태로 저장하기\n",
    "total_data.to_csv(\"job_review_\" + query + \".csv\" ,index=True)\n",
    "\n",
    "# step10.크롬 드라이버 종료\n",
    "driver.close()"
   ]
  },
  {
   "cell_type": "code",
   "execution_count": null,
   "metadata": {},
   "outputs": [],
   "source": []
  },
  {
   "cell_type": "code",
   "execution_count": null,
   "metadata": {},
   "outputs": [],
   "source": []
  }
 ],
 "metadata": {
  "kernelspec": {
   "display_name": "Python 3 (ipykernel)",
   "language": "python",
   "name": "python3"
  },
  "language_info": {
   "codemirror_mode": {
    "name": "ipython",
    "version": 3
   },
   "file_extension": ".py",
   "mimetype": "text/x-python",
   "name": "python",
   "nbconvert_exporter": "python",
   "pygments_lexer": "ipython3",
   "version": "3.10.6"
  },
  "vscode": {
   "interpreter": {
    "hash": "369f2c481f4da34e4445cda3fffd2e751bd1c4d706f27375911949ba6bb62e1c"
   }
  }
 },
 "nbformat": 4,
 "nbformat_minor": 2
}
